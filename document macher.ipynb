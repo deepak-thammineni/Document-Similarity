{
 "cells": [
  {
   "cell_type": "code",
   "execution_count": 1,
   "metadata": {},
   "outputs": [],
   "source": [
    "import nltk\n",
    "import os\n",
    "import re\n",
    "import numpy as np\n",
    "import pandas as pd\n",
    "from nltk.corpus import PlaintextCorpusReader,stopwords\n",
    "from nltk.stem import PorterStemmer\n",
    "from nltk.stem.wordnet import WordNetLemmatizer\n",
    "from sklearn.feature_extraction.text import TfidfVectorizer\n",
    "from sklearn.metrics.pairwise import cosine_similarity\n",
    "from collections import Counter\n",
    "import string"
   ]
  },
  {
   "cell_type": "code",
   "execution_count": 2,
   "metadata": {},
   "outputs": [],
   "source": [
    " Corpus=PlaintextCorpusReader(r'C:\\Users\\Deepak\\text', \".*\\.txt\")      #for reading and storing all the seperated text files into corpus. "
   ]
  },
  {
   "cell_type": "markdown",
   "metadata": {},
   "source": [
    "# Pre-Processing"
   ]
  },
  {
   "cell_type": "code",
   "execution_count": 3,
   "metadata": {},
   "outputs": [
    {
     "name": "stdout",
     "output_type": "stream",
     "text": [
      "['1.txt', '10.txt', '100.txt', '101.txt', '102.txt']\n"
     ]
    }
   ],
   "source": [
    "print(Corpus.fileids()[0:5])                    #for checking if the files in corpus or showing up properly or not."
   ]
  },
  {
   "cell_type": "code",
   "execution_count": 48,
   "metadata": {},
   "outputs": [],
   "source": [
    "file_dict={}\n",
    "for file in Corpus.fileids():  \n",
    "    final_word_list=[]\n",
    "    word_List = [WordNetLemmatizer().lemmatize(word.lower()) for word in Corpus.words(file) if word not in stopwords.words('english') and word not in string.punctuation ]\n",
    "    final_string = ' '.join(word_List)\n",
    "    file_dict[file] = final_string\n",
    "tfidf = TfidfVectorizer()\n",
    "tfs = tfidf.fit_transform(file_dict.values())\n",
    "\n",
    "#for word in wordList:\n",
    "#        final_word_list.append(PorterStemmer().stem(word))\n",
    "#not doing stemming because the words are not being stemmed properly, like recently to rec, genetics to genet, etc., I believe lemmatization works fine compared to stemming. Henceforth used that.   "
   ]
  },
  {
   "cell_type": "code",
   "execution_count": 92,
   "metadata": {},
   "outputs": [
    {
     "data": {
      "text/plain": [
       "<431x8403 sparse matrix of type '<class 'numpy.float64'>'\n",
       "\twith 50038 stored elements in Compressed Sparse Row format>"
      ]
     },
     "execution_count": 92,
     "metadata": {},
     "output_type": "execute_result"
    }
   ],
   "source": [
    "tfs                            #for checking matrix size after pre-processing for 431 documents with respect to it's terms."
   ]
  },
  {
   "cell_type": "code",
   "execution_count": 6,
   "metadata": {},
   "outputs": [],
   "source": [
    "feature_names = tfidf.get_feature_names()\n",
    "dense = tfs.todense()\n",
    "denselist = dense.tolist()\n",
    "df = pd.DataFrame(denselist, columns=feature_names)\n",
    "#created a dataframe to visulaize the vectors created for all the 431 files."
   ]
  },
  {
   "cell_type": "code",
   "execution_count": 91,
   "metadata": {},
   "outputs": [
    {
     "data": {
      "text/html": [
       "<div>\n",
       "<style scoped>\n",
       "    .dataframe tbody tr th:only-of-type {\n",
       "        vertical-align: middle;\n",
       "    }\n",
       "\n",
       "    .dataframe tbody tr th {\n",
       "        vertical-align: top;\n",
       "    }\n",
       "\n",
       "    .dataframe thead th {\n",
       "        text-align: right;\n",
       "    }\n",
       "</style>\n",
       "<table border=\"1\" class=\"dataframe\">\n",
       "  <thead>\n",
       "    <tr style=\"text-align: right;\">\n",
       "      <th></th>\n",
       "      <th>00</th>\n",
       "      <th>000</th>\n",
       "      <th>0000</th>\n",
       "      <th>00001</th>\n",
       "      <th>0001</th>\n",
       "      <th>0002</th>\n",
       "      <th>0008</th>\n",
       "      <th>0009</th>\n",
       "      <th>001</th>\n",
       "      <th>002</th>\n",
       "      <th>...</th>\n",
       "      <th>ziegler</th>\n",
       "      <th>ziemann</th>\n",
       "      <th>ziemba</th>\n",
       "      <th>zimmerman</th>\n",
       "      <th>zinck</th>\n",
       "      <th>zoeller</th>\n",
       "      <th>zone</th>\n",
       "      <th>zoucha</th>\n",
       "      <th>zung</th>\n",
       "      <th>zxy</th>\n",
       "    </tr>\n",
       "  </thead>\n",
       "  <tbody>\n",
       "    <tr>\n",
       "      <th>0</th>\n",
       "      <td>0.0</td>\n",
       "      <td>0.000000</td>\n",
       "      <td>0.0</td>\n",
       "      <td>0.0</td>\n",
       "      <td>0.0</td>\n",
       "      <td>0.0</td>\n",
       "      <td>0.0</td>\n",
       "      <td>0.0</td>\n",
       "      <td>0.0</td>\n",
       "      <td>0.0</td>\n",
       "      <td>...</td>\n",
       "      <td>0.0</td>\n",
       "      <td>0.0</td>\n",
       "      <td>0.0</td>\n",
       "      <td>0.0</td>\n",
       "      <td>0.0</td>\n",
       "      <td>0.0</td>\n",
       "      <td>0.0</td>\n",
       "      <td>0.0</td>\n",
       "      <td>0.0</td>\n",
       "      <td>0.0</td>\n",
       "    </tr>\n",
       "    <tr>\n",
       "      <th>1</th>\n",
       "      <td>0.0</td>\n",
       "      <td>0.067255</td>\n",
       "      <td>0.0</td>\n",
       "      <td>0.0</td>\n",
       "      <td>0.0</td>\n",
       "      <td>0.0</td>\n",
       "      <td>0.0</td>\n",
       "      <td>0.0</td>\n",
       "      <td>0.0</td>\n",
       "      <td>0.0</td>\n",
       "      <td>...</td>\n",
       "      <td>0.0</td>\n",
       "      <td>0.0</td>\n",
       "      <td>0.0</td>\n",
       "      <td>0.0</td>\n",
       "      <td>0.0</td>\n",
       "      <td>0.0</td>\n",
       "      <td>0.0</td>\n",
       "      <td>0.0</td>\n",
       "      <td>0.0</td>\n",
       "      <td>0.0</td>\n",
       "    </tr>\n",
       "    <tr>\n",
       "      <th>2</th>\n",
       "      <td>0.0</td>\n",
       "      <td>0.000000</td>\n",
       "      <td>0.0</td>\n",
       "      <td>0.0</td>\n",
       "      <td>0.0</td>\n",
       "      <td>0.0</td>\n",
       "      <td>0.0</td>\n",
       "      <td>0.0</td>\n",
       "      <td>0.0</td>\n",
       "      <td>0.0</td>\n",
       "      <td>...</td>\n",
       "      <td>0.0</td>\n",
       "      <td>0.0</td>\n",
       "      <td>0.0</td>\n",
       "      <td>0.0</td>\n",
       "      <td>0.0</td>\n",
       "      <td>0.0</td>\n",
       "      <td>0.0</td>\n",
       "      <td>0.0</td>\n",
       "      <td>0.0</td>\n",
       "      <td>0.0</td>\n",
       "    </tr>\n",
       "    <tr>\n",
       "      <th>3</th>\n",
       "      <td>0.0</td>\n",
       "      <td>0.000000</td>\n",
       "      <td>0.0</td>\n",
       "      <td>0.0</td>\n",
       "      <td>0.0</td>\n",
       "      <td>0.0</td>\n",
       "      <td>0.0</td>\n",
       "      <td>0.0</td>\n",
       "      <td>0.0</td>\n",
       "      <td>0.0</td>\n",
       "      <td>...</td>\n",
       "      <td>0.0</td>\n",
       "      <td>0.0</td>\n",
       "      <td>0.0</td>\n",
       "      <td>0.0</td>\n",
       "      <td>0.0</td>\n",
       "      <td>0.0</td>\n",
       "      <td>0.0</td>\n",
       "      <td>0.0</td>\n",
       "      <td>0.0</td>\n",
       "      <td>0.0</td>\n",
       "    </tr>\n",
       "    <tr>\n",
       "      <th>4</th>\n",
       "      <td>0.0</td>\n",
       "      <td>0.000000</td>\n",
       "      <td>0.0</td>\n",
       "      <td>0.0</td>\n",
       "      <td>0.0</td>\n",
       "      <td>0.0</td>\n",
       "      <td>0.0</td>\n",
       "      <td>0.0</td>\n",
       "      <td>0.0</td>\n",
       "      <td>0.0</td>\n",
       "      <td>...</td>\n",
       "      <td>0.0</td>\n",
       "      <td>0.0</td>\n",
       "      <td>0.0</td>\n",
       "      <td>0.0</td>\n",
       "      <td>0.0</td>\n",
       "      <td>0.0</td>\n",
       "      <td>0.0</td>\n",
       "      <td>0.0</td>\n",
       "      <td>0.0</td>\n",
       "      <td>0.0</td>\n",
       "    </tr>\n",
       "  </tbody>\n",
       "</table>\n",
       "<p>5 rows × 8403 columns</p>\n",
       "</div>"
      ],
      "text/plain": [
       "    00       000  0000  00001  0001  0002  0008  0009  001  002  ...  ziegler  \\\n",
       "0  0.0  0.000000   0.0    0.0   0.0   0.0   0.0   0.0  0.0  0.0  ...      0.0   \n",
       "1  0.0  0.067255   0.0    0.0   0.0   0.0   0.0   0.0  0.0  0.0  ...      0.0   \n",
       "2  0.0  0.000000   0.0    0.0   0.0   0.0   0.0   0.0  0.0  0.0  ...      0.0   \n",
       "3  0.0  0.000000   0.0    0.0   0.0   0.0   0.0   0.0  0.0  0.0  ...      0.0   \n",
       "4  0.0  0.000000   0.0    0.0   0.0   0.0   0.0   0.0  0.0  0.0  ...      0.0   \n",
       "\n",
       "   ziemann  ziemba  zimmerman  zinck  zoeller  zone  zoucha  zung  zxy  \n",
       "0      0.0     0.0        0.0    0.0      0.0   0.0     0.0   0.0  0.0  \n",
       "1      0.0     0.0        0.0    0.0      0.0   0.0     0.0   0.0  0.0  \n",
       "2      0.0     0.0        0.0    0.0      0.0   0.0     0.0   0.0  0.0  \n",
       "3      0.0     0.0        0.0    0.0      0.0   0.0     0.0   0.0  0.0  \n",
       "4      0.0     0.0        0.0    0.0      0.0   0.0     0.0   0.0  0.0  \n",
       "\n",
       "[5 rows x 8403 columns]"
      ]
     },
     "execution_count": 91,
     "metadata": {},
     "output_type": "execute_result"
    }
   ],
   "source": [
    "df.head()                                   #top 5 rows i.e., top 5 text files are shown with respect to each of its terms in columns with tf-idf weights."
   ]
  },
  {
   "cell_type": "code",
   "execution_count": 97,
   "metadata": {
    "scrolled": true
   },
   "outputs": [
    {
     "data": {
      "text/plain": [
       "0    0.18896\n",
       "1    0.00000\n",
       "2    0.00000\n",
       "3    0.00000\n",
       "4    0.00000\n",
       "Name: benefit, dtype: float64"
      ]
     },
     "execution_count": 97,
     "metadata": {},
     "output_type": "execute_result"
    }
   ],
   "source": [
    "df['benefit'].head()                   #for checking a particular term weights for the whole collection . "
   ]
  },
  {
   "cell_type": "code",
   "execution_count": 385,
   "metadata": {},
   "outputs": [
    {
     "name": "stdout",
     "output_type": "stream",
     "text": [
      "  (0, 1313)\t0.22498820329632568\n",
      "  (0, 1127)\t0.1889603373283924\n",
      "  (0, 2582)\t0.10431304373475285\n",
      "  (0, 909)\t0.06172753364024214\n",
      "  (0, 3403)\t0.35728235459514507\n",
      "  (0, 4405)\t0.1468117747281824\n",
      "  (0, 4275)\t0.07797923419543072\n",
      "  (0, 8293)\t0.0838151909406808\n",
      "  (0, 7635)\t0.01791023339133294\n",
      "  (0, 5513)\t0.06929703329056856\n",
      "  (0, 4502)\t0.08163033482804177\n",
      "  (0, 5489)\t0.0717717098145767\n",
      "  (0, 4714)\t0.12469009051607932\n",
      "  (0, 3964)\t0.05300972419939596\n",
      "  (0, 5274)\t0.05164542465610859\n",
      "  (0, 3398)\t0.07247383648732525\n",
      "  (0, 3777)\t0.06507840354064179\n",
      "  (0, 3406)\t0.10431304373475285\n",
      "  (0, 6117)\t0.05946710180050462\n",
      "  (0, 7677)\t0.030595987637157065\n",
      "  (0, 5493)\t0.07499606776544189\n",
      "  (0, 6239)\t0.05100369080468413\n",
      "  (0, 7379)\t0.037617542755676275\n",
      "  (0, 2276)\t0.08932058864878627\n",
      "  (0, 4504)\t0.06507840354064179\n",
      "  :\t:\n",
      "  (0, 1541)\t0.093228648767715\n",
      "  (0, 2090)\t0.2086260874695057\n",
      "  (0, 610)\t0.06298677910946414\n",
      "  (0, 6370)\t0.056572141060284506\n",
      "  (0, 4039)\t0.0859264475024929\n",
      "  (0, 2735)\t0.12345506728048428\n",
      "  (0, 6505)\t0.08932058864878627\n",
      "  (0, 6809)\t0.054892501901449196\n",
      "  (0, 2493)\t0.07134496713283084\n",
      "  (0, 7343)\t0.09297168928139732\n",
      "  (0, 4110)\t0.09297168928139732\n",
      "  (0, 8338)\t0.08932058864878627\n",
      "  (0, 7433)\t0.05100369080468413\n",
      "  (0, 5232)\t0.0774891880026393\n",
      "  (0, 6384)\t0.08633742221879744\n",
      "  (0, 5745)\t0.05411320624728155\n",
      "  (0, 3877)\t0.05008594845467519\n",
      "  (0, 2661)\t0.054498214971369835\n",
      "  (0, 4869)\t0.07641975799399732\n",
      "  (0, 924)\t0.08932058864878627\n",
      "  (0, 2166)\t0.05336934561687543\n",
      "  (0, 6454)\t0.055710778195439785\n",
      "  (0, 2435)\t0.08633742221879744\n",
      "  (0, 4899)\t0.05069202203228177\n",
      "  (0, 5554)\t0.06234504525803966\n"
     ]
    }
   ],
   "source": [
    "print(tfs[0])                                #for checking the tf-idf values of each terms in document \"1.txt\", indexing start with 0."
   ]
  },
  {
   "cell_type": "markdown",
   "metadata": {},
   "source": [
    "# Similarity checking"
   ]
  },
  {
   "cell_type": "code",
   "execution_count": 364,
   "metadata": {},
   "outputs": [],
   "source": [
    "query1='premature children'                     #input query as per the need \n",
    "#query2='Gynecological cancer'"
   ]
  },
  {
   "cell_type": "code",
   "execution_count": 365,
   "metadata": {},
   "outputs": [],
   "source": [
    "final_query_list = [WordNetLemmatizer().lemmatize(word.lower()) for word in query1.split() if word not in stopwords.words('english') and word not in string.punctuation ]\n",
    "final_str = ' '.join(final_query_list)                #pre-processing for better results"
   ]
  },
  {
   "cell_type": "code",
   "execution_count": 366,
   "metadata": {},
   "outputs": [
    {
     "data": {
      "text/plain": [
       "'premature child'"
      ]
     },
     "execution_count": 366,
     "metadata": {},
     "output_type": "execute_result"
    }
   ],
   "source": [
    "final_str"
   ]
  },
  {
   "cell_type": "code",
   "execution_count": 367,
   "metadata": {},
   "outputs": [],
   "source": [
    "similarity = cosine_similarity(tfidf.transform([final_str]),tfs)     # for calculating similarity from given query to available document collection.\n",
    "similarDocs = cosine_similarity(tfs[0],tfs)                          # for calculating documents similar to given document, can change tfs[0] to required document id(tfs[0-430] to which, similar document needs to be calculated in the collection.)"
   ]
  },
  {
   "cell_type": "code",
   "execution_count": 368,
   "metadata": {},
   "outputs": [
    {
     "data": {
      "text/plain": [
       "(1, 431)"
      ]
     },
     "execution_count": 368,
     "metadata": {},
     "output_type": "execute_result"
    }
   ],
   "source": [
    "similarity.shape"
   ]
  },
  {
   "cell_type": "code",
   "execution_count": 369,
   "metadata": {},
   "outputs": [],
   "source": [
    "sorted_similarity=np.sort(similarity)        #for sorting the similarity and similarDocs arrays\n",
    "sorted_similarDocs=np.sort(similarDocs)"
   ]
  },
  {
   "cell_type": "code",
   "execution_count": 374,
   "metadata": {},
   "outputs": [
    {
     "data": {
      "text/plain": [
       "[(0, 45),\n",
       " (0, 54),\n",
       " (0, 78),\n",
       " (0, 100),\n",
       " (0, 145),\n",
       " (0, 167),\n",
       " (0, 204),\n",
       " (0, 213),\n",
       " (0, 250),\n",
       " (0, 252),\n",
       " (0, 281),\n",
       " (0, 303),\n",
       " (0, 346),\n",
       " (0, 347),\n",
       " (0, 348),\n",
       " (0, 372)]"
      ]
     },
     "execution_count": 374,
     "metadata": {},
     "output_type": "execute_result"
    }
   ],
   "source": [
    "list(zip(*np.where(similarity>0.15)))            #I have set minimum threshold of 0.15 for calculating the query to document similarity and listing them as shown in below output.\n",
    "                                                 #add +1 to the indexes below to get the file name.\n",
    "                                                 #0+1=1, 13+1=14...... since all the files are started with index 0(tfs[0]). Files 1,14.... are referred to 1.txt,14.txt,... files.\n",
    "                                                 #46, 54, 214,... docs are similar to premature children\n",
    "                                                 #2, 72, 122,... docs are similar to gynecological cancer"
   ]
  },
  {
   "cell_type": "code",
   "execution_count": 384,
   "metadata": {
    "scrolled": true
   },
   "outputs": [
    {
     "data": {
      "text/plain": [
       "[(0, 0), (0, 308), (0, 351)]"
      ]
     },
     "execution_count": 384,
     "metadata": {},
     "output_type": "execute_result"
    }
   ],
   "source": [
    "list(zip(*np.where(similarDocs>0.18)))         #I have set minimum threshold of 0.18 for calculating the document to document similarity in collection and listing them as shown in below output. Can decrease the value for more similar documents retrieval "
   ]
  },
  {
   "cell_type": "code",
   "execution_count": 315,
   "metadata": {},
   "outputs": [
    {
     "data": {
      "text/html": [
       "<div>\n",
       "<style scoped>\n",
       "    .dataframe tbody tr th:only-of-type {\n",
       "        vertical-align: middle;\n",
       "    }\n",
       "\n",
       "    .dataframe tbody tr th {\n",
       "        vertical-align: top;\n",
       "    }\n",
       "\n",
       "    .dataframe thead th {\n",
       "        text-align: right;\n",
       "    }\n",
       "</style>\n",
       "<table border=\"1\" class=\"dataframe\">\n",
       "  <thead>\n",
       "    <tr style=\"text-align: right;\">\n",
       "      <th></th>\n",
       "      <th>0</th>\n",
       "    </tr>\n",
       "  </thead>\n",
       "  <tbody>\n",
       "    <tr>\n",
       "      <th>421</th>\n",
       "      <td>0.162462</td>\n",
       "    </tr>\n",
       "    <tr>\n",
       "      <th>422</th>\n",
       "      <td>0.162566</td>\n",
       "    </tr>\n",
       "    <tr>\n",
       "      <th>423</th>\n",
       "      <td>0.162682</td>\n",
       "    </tr>\n",
       "    <tr>\n",
       "      <th>424</th>\n",
       "      <td>0.165996</td>\n",
       "    </tr>\n",
       "    <tr>\n",
       "      <th>425</th>\n",
       "      <td>0.173836</td>\n",
       "    </tr>\n",
       "    <tr>\n",
       "      <th>426</th>\n",
       "      <td>0.178846</td>\n",
       "    </tr>\n",
       "    <tr>\n",
       "      <th>427</th>\n",
       "      <td>0.197731</td>\n",
       "    </tr>\n",
       "    <tr>\n",
       "      <th>428</th>\n",
       "      <td>0.203661</td>\n",
       "    </tr>\n",
       "    <tr>\n",
       "      <th>429</th>\n",
       "      <td>0.213362</td>\n",
       "    </tr>\n",
       "    <tr>\n",
       "      <th>430</th>\n",
       "      <td>0.269405</td>\n",
       "    </tr>\n",
       "  </tbody>\n",
       "</table>\n",
       "</div>"
      ],
      "text/plain": [
       "            0\n",
       "421  0.162462\n",
       "422  0.162566\n",
       "423  0.162682\n",
       "424  0.165996\n",
       "425  0.173836\n",
       "426  0.178846\n",
       "427  0.197731\n",
       "428  0.203661\n",
       "429  0.213362\n",
       "430  0.269405"
      ]
     },
     "execution_count": 315,
     "metadata": {},
     "output_type": "execute_result"
    }
   ],
   "source": [
    "(pd.DataFrame(sorted_similarity.reshape(431,1)))[-10:]            # when k=10, similar documents for a given query with cosine_similarity scores are shown."
   ]
  },
  {
   "cell_type": "code",
   "execution_count": 316,
   "metadata": {
    "scrolled": true
   },
   "outputs": [
    {
     "data": {
      "text/html": [
       "<div>\n",
       "<style scoped>\n",
       "    .dataframe tbody tr th:only-of-type {\n",
       "        vertical-align: middle;\n",
       "    }\n",
       "\n",
       "    .dataframe tbody tr th {\n",
       "        vertical-align: top;\n",
       "    }\n",
       "\n",
       "    .dataframe thead th {\n",
       "        text-align: right;\n",
       "    }\n",
       "</style>\n",
       "<table border=\"1\" class=\"dataframe\">\n",
       "  <thead>\n",
       "    <tr style=\"text-align: right;\">\n",
       "      <th></th>\n",
       "      <th>0</th>\n",
       "    </tr>\n",
       "  </thead>\n",
       "  <tbody>\n",
       "    <tr>\n",
       "      <th>426</th>\n",
       "      <td>0.178846</td>\n",
       "    </tr>\n",
       "    <tr>\n",
       "      <th>427</th>\n",
       "      <td>0.197731</td>\n",
       "    </tr>\n",
       "    <tr>\n",
       "      <th>428</th>\n",
       "      <td>0.203661</td>\n",
       "    </tr>\n",
       "    <tr>\n",
       "      <th>429</th>\n",
       "      <td>0.213362</td>\n",
       "    </tr>\n",
       "    <tr>\n",
       "      <th>430</th>\n",
       "      <td>0.269405</td>\n",
       "    </tr>\n",
       "  </tbody>\n",
       "</table>\n",
       "</div>"
      ],
      "text/plain": [
       "            0\n",
       "426  0.178846\n",
       "427  0.197731\n",
       "428  0.203661\n",
       "429  0.213362\n",
       "430  0.269405"
      ]
     },
     "execution_count": 316,
     "metadata": {},
     "output_type": "execute_result"
    }
   ],
   "source": [
    "(pd.DataFrame(sorted_similarity.reshape(431,1)))[-5:]            # when k=5, similar documents for a given query with cosine_similarity scores are shown."
   ]
  },
  {
   "cell_type": "code",
   "execution_count": 317,
   "metadata": {},
   "outputs": [
    {
     "data": {
      "text/html": [
       "<div>\n",
       "<style scoped>\n",
       "    .dataframe tbody tr th:only-of-type {\n",
       "        vertical-align: middle;\n",
       "    }\n",
       "\n",
       "    .dataframe tbody tr th {\n",
       "        vertical-align: top;\n",
       "    }\n",
       "\n",
       "    .dataframe thead th {\n",
       "        text-align: right;\n",
       "    }\n",
       "</style>\n",
       "<table border=\"1\" class=\"dataframe\">\n",
       "  <thead>\n",
       "    <tr style=\"text-align: right;\">\n",
       "      <th></th>\n",
       "      <th>0</th>\n",
       "    </tr>\n",
       "  </thead>\n",
       "  <tbody>\n",
       "    <tr>\n",
       "      <th>428</th>\n",
       "      <td>0.203661</td>\n",
       "    </tr>\n",
       "    <tr>\n",
       "      <th>429</th>\n",
       "      <td>0.213362</td>\n",
       "    </tr>\n",
       "    <tr>\n",
       "      <th>430</th>\n",
       "      <td>0.269405</td>\n",
       "    </tr>\n",
       "  </tbody>\n",
       "</table>\n",
       "</div>"
      ],
      "text/plain": [
       "            0\n",
       "428  0.203661\n",
       "429  0.213362\n",
       "430  0.269405"
      ]
     },
     "execution_count": 317,
     "metadata": {},
     "output_type": "execute_result"
    }
   ],
   "source": [
    "(pd.DataFrame(sorted_similarity.reshape(431,1)))[-3:]            # when k=3, similar documents for a given query with cosine_similarity scores are shown."
   ]
  },
  {
   "cell_type": "code",
   "execution_count": 181,
   "metadata": {},
   "outputs": [
    {
     "data": {
      "text/html": [
       "<div>\n",
       "<style scoped>\n",
       "    .dataframe tbody tr th:only-of-type {\n",
       "        vertical-align: middle;\n",
       "    }\n",
       "\n",
       "    .dataframe tbody tr th {\n",
       "        vertical-align: top;\n",
       "    }\n",
       "\n",
       "    .dataframe thead th {\n",
       "        text-align: right;\n",
       "    }\n",
       "</style>\n",
       "<table border=\"1\" class=\"dataframe\">\n",
       "  <thead>\n",
       "    <tr style=\"text-align: right;\">\n",
       "      <th></th>\n",
       "      <th>0</th>\n",
       "    </tr>\n",
       "  </thead>\n",
       "  <tbody>\n",
       "    <tr>\n",
       "      <th>426</th>\n",
       "      <td>0.173054</td>\n",
       "    </tr>\n",
       "    <tr>\n",
       "      <th>427</th>\n",
       "      <td>0.175987</td>\n",
       "    </tr>\n",
       "    <tr>\n",
       "      <th>428</th>\n",
       "      <td>0.188436</td>\n",
       "    </tr>\n",
       "    <tr>\n",
       "      <th>429</th>\n",
       "      <td>0.191291</td>\n",
       "    </tr>\n",
       "    <tr>\n",
       "      <th>430</th>\n",
       "      <td>1.000000</td>\n",
       "    </tr>\n",
       "  </tbody>\n",
       "</table>\n",
       "</div>"
      ],
      "text/plain": [
       "            0\n",
       "426  0.173054\n",
       "427  0.175987\n",
       "428  0.188436\n",
       "429  0.191291\n",
       "430  1.000000"
      ]
     },
     "execution_count": 181,
     "metadata": {},
     "output_type": "execute_result"
    }
   ],
   "source": [
    "(pd.DataFrame(sorted_similarDocs.reshape(431,1)))[-5:]      # when k=5, similar documents for a given documents with high cosine_similarity scores are shown."
   ]
  },
  {
   "cell_type": "code",
   "execution_count": 375,
   "metadata": {},
   "outputs": [
    {
     "data": {
      "text/html": [
       "<div>\n",
       "<style scoped>\n",
       "    .dataframe tbody tr th:only-of-type {\n",
       "        vertical-align: middle;\n",
       "    }\n",
       "\n",
       "    .dataframe tbody tr th {\n",
       "        vertical-align: top;\n",
       "    }\n",
       "\n",
       "    .dataframe thead th {\n",
       "        text-align: right;\n",
       "    }\n",
       "</style>\n",
       "<table border=\"1\" class=\"dataframe\">\n",
       "  <thead>\n",
       "    <tr style=\"text-align: right;\">\n",
       "      <th></th>\n",
       "      <th>0</th>\n",
       "    </tr>\n",
       "  </thead>\n",
       "  <tbody>\n",
       "    <tr>\n",
       "      <th>428</th>\n",
       "      <td>0.188436</td>\n",
       "    </tr>\n",
       "    <tr>\n",
       "      <th>429</th>\n",
       "      <td>0.191291</td>\n",
       "    </tr>\n",
       "    <tr>\n",
       "      <th>430</th>\n",
       "      <td>1.000000</td>\n",
       "    </tr>\n",
       "  </tbody>\n",
       "</table>\n",
       "</div>"
      ],
      "text/plain": [
       "            0\n",
       "428  0.188436\n",
       "429  0.191291\n",
       "430  1.000000"
      ]
     },
     "execution_count": 375,
     "metadata": {},
     "output_type": "execute_result"
    }
   ],
   "source": [
    "(pd.DataFrame(sorted_similarDocs.reshape(431,1)))[-3:]      # when k=3, similar documents for a given documents with high cosine_similarity scores are shown."
   ]
  },
  {
   "cell_type": "code",
   "execution_count": 318,
   "metadata": {},
   "outputs": [
    {
     "data": {
      "text/html": [
       "<div>\n",
       "<style scoped>\n",
       "    .dataframe tbody tr th:only-of-type {\n",
       "        vertical-align: middle;\n",
       "    }\n",
       "\n",
       "    .dataframe tbody tr th {\n",
       "        vertical-align: top;\n",
       "    }\n",
       "\n",
       "    .dataframe thead th {\n",
       "        text-align: right;\n",
       "    }\n",
       "</style>\n",
       "<table border=\"1\" class=\"dataframe\">\n",
       "  <thead>\n",
       "    <tr style=\"text-align: right;\">\n",
       "      <th></th>\n",
       "      <th>0</th>\n",
       "    </tr>\n",
       "  </thead>\n",
       "  <tbody>\n",
       "    <tr>\n",
       "      <th>430</th>\n",
       "      <td>1.0</td>\n",
       "    </tr>\n",
       "  </tbody>\n",
       "</table>\n",
       "</div>"
      ],
      "text/plain": [
       "       0\n",
       "430  1.0"
      ]
     },
     "execution_count": 318,
     "metadata": {},
     "output_type": "execute_result"
    }
   ],
   "source": [
    "(pd.DataFrame(sorted_similarDocs.reshape(431,1)))[-1:]      #when k=1, similar documents for a given documents with high cosine_similarity scores are shown."
   ]
  }
 ],
 "metadata": {
  "kernelspec": {
   "display_name": "Python 3",
   "language": "python",
   "name": "python3"
  },
  "language_info": {
   "codemirror_mode": {
    "name": "ipython",
    "version": 3
   },
   "file_extension": ".py",
   "mimetype": "text/x-python",
   "name": "python",
   "nbconvert_exporter": "python",
   "pygments_lexer": "ipython3",
   "version": "3.7.3"
  }
 },
 "nbformat": 4,
 "nbformat_minor": 2
}
